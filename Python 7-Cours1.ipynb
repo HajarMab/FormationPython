{
 "cells": [
  {
   "cell_type": "code",
   "execution_count": 1,
   "id": "171dc2bc",
   "metadata": {},
   "outputs": [
    {
     "name": "stdout",
     "output_type": "stream",
     "text": [
      "hajar\n"
     ]
    }
   ],
   "source": [
    "print (\"hajar\")"
   ]
  },
  {
   "cell_type": "code",
   "execution_count": 2,
   "id": "5ed453a7",
   "metadata": {},
   "outputs": [
    {
     "name": "stdout",
     "output_type": "stream",
     "text": [
      "comment ca va\n"
     ]
    }
   ],
   "source": [
    "print(\"comment ca va\")"
   ]
  },
  {
   "cell_type": "code",
   "execution_count": null,
   "id": "5df30da4",
   "metadata": {},
   "outputs": [],
   "source": []
  }
 ],
 "metadata": {
  "kernelspec": {
   "display_name": "Python 3 (ipykernel)",
   "language": "python",
   "name": "python3"
  },
  "language_info": {
   "codemirror_mode": {
    "name": "ipython",
    "version": 3
   },
   "file_extension": ".py",
   "mimetype": "text/x-python",
   "name": "python",
   "nbconvert_exporter": "python",
   "pygments_lexer": "ipython3",
   "version": "3.9.12"
  }
 },
 "nbformat": 4,
 "nbformat_minor": 5
}

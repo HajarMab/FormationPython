{
 "cells": [
  {
   "cell_type": "markdown",
   "id": "d46008a7",
   "metadata": {},
   "source": [
    "# Pandas Challenge\n",
    "\n",
    "Write a Pandas program to create and display a DataFrame from the following dictionary data with index labels.\n",
    "\n",
    "exam_data = {'name': ['Anastasia', 'Dima', 'Katherine', 'James', 'Emily', 'Michael', 'Matthew', 'Laura', 'Kevin', 'Jonas'],\n",
    "\n",
    "'score': [12.5, 9, 16.5, np.nan, 9, 20, 14.5, np.nan, 8, 19],\n",
    "\n",
    "'attempts': [1, 3, 2, 3, 2, 3, 1, 1, 2, 1],\n",
    "\n",
    "'qualify': ['yes', 'no', 'yes', 'no', 'no', 'yes', 'yes', 'no', 'no', 'yes']}\n",
    "\n",
    "labels = ['a', 'b', 'c', 'd', 'e', 'f', 'g', 'h', 'i', 'j']"
   ]
  },
  {
   "cell_type": "code",
   "execution_count": 132,
   "id": "7cb80455",
   "metadata": {},
   "outputs": [],
   "source": [
    "import numpy as np\n",
    "exam_data = {'name': ['Anastasia', 'Dima', 'Katherine', 'James', 'Emily', 'Michael', 'Matthew', 'Laura', 'Kevin', 'Jonas'], \n",
    "             'score': [12.5, 9, 16.5, np.nan, 9, 20, 14.5, np.nan, 8, 19],\n",
    "             'attempts': [1, 3, 2, 3, 2, 3, 1, 1, 2, 1],'qualify': ['yes', 'no', 'yes', 'no', 'no', 'yes', 'yes', 'no', 'no', 'yes']}\n",
    "labels = ['a', 'b', 'c', 'd', 'e', 'f', 'g', 'h', 'i', 'j']"
   ]
  },
  {
   "cell_type": "code",
   "execution_count": 133,
   "id": "9649977d",
   "metadata": {},
   "outputs": [
    {
     "name": "stdout",
     "output_type": "stream",
     "text": [
      "{'name': ['Anastasia', 'Dima', 'Katherine', 'James', 'Emily', 'Michael', 'Matthew', 'Laura', 'Kevin', 'Jonas'], 'score': [12.5, 9, 16.5, nan, 9, 20, 14.5, nan, 8, 19], 'attempts': [1, 3, 2, 3, 2, 3, 1, 1, 2, 1], 'qualify': ['yes', 'no', 'yes', 'no', 'no', 'yes', 'yes', 'no', 'no', 'yes']}\n"
     ]
    }
   ],
   "source": [
    "print (exam_data)"
   ]
  },
  {
   "cell_type": "code",
   "execution_count": 134,
   "id": "cd0016b5",
   "metadata": {},
   "outputs": [
    {
     "name": "stdout",
     "output_type": "stream",
     "text": [
      "        name  score  attempts qualify\n",
      "0  Anastasia   12.5         1     yes\n",
      "1       Dima    9.0         3      no\n",
      "2  Katherine   16.5         2     yes\n",
      "3      James    NaN         3      no\n",
      "4      Emily    9.0         2      no\n",
      "5    Michael   20.0         3     yes\n",
      "6    Matthew   14.5         1     yes\n",
      "7      Laura    NaN         1      no\n",
      "8      Kevin    8.0         2      no\n",
      "9      Jonas   19.0         1     yes\n"
     ]
    }
   ],
   "source": [
    "import pandas as pd\n",
    "myDataFrame=pd.DataFrame(exam_data)\n",
    "print(myDataFrame)"
   ]
  },
  {
   "cell_type": "markdown",
   "id": "7cf27f0b",
   "metadata": {},
   "source": [
    "## Instructions\n",
    "\n",
    "   ### 1. Print the three first rows using the head() method."
   ]
  },
  {
   "cell_type": "code",
   "execution_count": 135,
   "id": "44ea27fb",
   "metadata": {},
   "outputs": [
    {
     "name": "stdout",
     "output_type": "stream",
     "text": [
      "        name  score  attempts qualify\n",
      "0  Anastasia   12.5         1     yes\n",
      "1       Dima    9.0         3      no\n",
      "2  Katherine   16.5         2     yes\n"
     ]
    }
   ],
   "source": [
    "print(myDataFrame.head(3))"
   ]
  },
  {
   "cell_type": "markdown",
   "id": "05e7a3b8",
   "metadata": {},
   "source": [
    "### 2. Delete rows with Nan values.\n",
    "https://moncoachdata.com/blog/nettoyage-de-donnees-python/"
   ]
  },
  {
   "cell_type": "markdown",
   "id": "f2e297c1",
   "metadata": {},
   "source": [
    "##### Comment je peux reconnaitre le type de nan qui se trouve dans ma cellule\n",
    "     1.J'ai commencé par accéder à la ligne qui pose problème ( ligne 7)\n",
    "             ScoreY=myDataFrame.iloc[7]\n",
    "     2.J'ai récupéré le contenu de la cellule \n",
    "             ScoreNaN= ScoreY.score\n",
    "     3. Je teste ce contenu \n",
    "             if ScoreNaN==np.nan :\n",
    "                print(\"YESS\")\n",
    "             if pd.isna(ScoreNaN) :\n",
    "                print(\"Il s'agit d'une valeur manquante de type pandas\")\n",
    "##### Le problème c'est qu'il va falloir répeter ces opérations pour tous les nan de mon fichier => Voir une des solutions proposées lien au dessus\n",
    "\n"
   ]
  },
  {
   "cell_type": "code",
   "execution_count": 136,
   "id": "b967d761",
   "metadata": {},
   "outputs": [
    {
     "name": "stdout",
     "output_type": "stream",
     "text": [
      "nan\n",
      "Il s'agit d'une valeur manquante de type pandas\n"
     ]
    }
   ],
   "source": [
    "#Pour accéder à une ligne à partir de son numéro\n",
    "ScoreY=myDataFrame.iloc[7]\n",
    "ScoreNaN= ScoreY.score\n",
    "print(ScoreNaN)\n",
    "if ScoreNaN==np.nan :\n",
    "    print(\"YESS\")\n",
    "if pd.isna(ScoreNaN) :\n",
    "    print(\"Il s'agit d'une valeur manquante de type pandas\")\n"
   ]
  },
  {
   "cell_type": "markdown",
   "id": "7545fad0",
   "metadata": {},
   "source": [
    "##### Comme il s'agit d'une valeur manquante de type pandas alors on peut utiliser la méthode dropna"
   ]
  },
  {
   "cell_type": "code",
   "execution_count": 137,
   "id": "229845f2",
   "metadata": {},
   "outputs": [
    {
     "name": "stdout",
     "output_type": "stream",
     "text": [
      "        name  score  attempts qualify\n",
      "0  Anastasia   12.5         1     yes\n",
      "1       Dima    9.0         3      no\n",
      "2  Katherine   16.5         2     yes\n",
      "4      Emily    9.0         2      no\n",
      "5    Michael   20.0         3     yes\n",
      "6    Matthew   14.5         1     yes\n",
      "8      Kevin    8.0         2      no\n",
      "9      Jonas   19.0         1     yes\n"
     ]
    }
   ],
   "source": [
    "myDataFrame = myDataFrame.dropna()\n",
    "print(myDataFrame)"
   ]
  },
  {
   "cell_type": "code",
   "execution_count": 138,
   "id": "37a1a158",
   "metadata": {},
   "outputs": [
    {
     "name": "stdout",
     "output_type": "stream",
     "text": [
      "        name  score  attempts qualify\n",
      "0  Anastasia   12.5         1     yes\n",
      "0    12.5\n",
      "Name: score, dtype: float64\n"
     ]
    }
   ],
   "source": [
    "#Pour accéder à une ligne à partir du contenu d'une colonne\n",
    "X=myDataFrame[myDataFrame['score'] == 12.5]\n",
    "print( X)\n",
    "ScoreX=X.score\n",
    "print (ScoreX)\n",
    "#pour accéder au contenu d'une colonne à partir de son numéro de ligne \n",
    "# Pour accéder à une ligne à partir de la valeur de sa colonne \n",
    "   ##How to select rows from a dataframe based on column values ?\n",
    "      ##https://www.geeksforgeeks.org/how-to-select-rows-from-a-dataframe-based-on-column-values/"
   ]
  },
  {
   "cell_type": "markdown",
   "id": "558554a8",
   "metadata": {},
   "source": [
    "### 3.Extract the 'name' and 'score' columns from the DataFrame."
   ]
  },
  {
   "cell_type": "code",
   "execution_count": 139,
   "id": "3964e6e0",
   "metadata": {},
   "outputs": [
    {
     "name": "stdout",
     "output_type": "stream",
     "text": [
      "0    12.5\n",
      "1     9.0\n",
      "2    16.5\n",
      "4     9.0\n",
      "5    20.0\n",
      "6    14.5\n",
      "8     8.0\n",
      "9    19.0\n",
      "Name: score, dtype: float64\n",
      "        name  score\n",
      "0  Anastasia   12.5\n",
      "1       Dima    9.0\n",
      "2  Katherine   16.5\n",
      "4      Emily    9.0\n",
      "5    Michael   20.0\n",
      "6    Matthew   14.5\n",
      "8      Kevin    8.0\n",
      "9      Jonas   19.0\n"
     ]
    }
   ],
   "source": [
    "# si on souhaite selectionner uniquement une seule colonne\n",
    "XX=myDataFrame.score\n",
    "print (XX)\n",
    "# si on souhaite selectionner plusieurs colonnes \n",
    "        ##df[['col1', 'col2']]=> https://www.statology.org/pandas-select-multiple-columns/\n",
    "myNewDataFrame=myDataFrame[['name','score']]\n",
    "print(myNewDataFrame)"
   ]
  },
  {
   "cell_type": "markdown",
   "id": "6cde7ecf",
   "metadata": {},
   "source": [
    "### 4.Write a Pandas program to append a new row 'k' to the DataFrame with these values (name: \"Suresh\", score: 15.5, attempts: 1, qualify: \"yes\").\n",
    "        ##### Pour concaterner ou bien pour faire du append il est necessaire de déclarer une nouvelle dataframe qui va contenir les informantions que l'on souhaite rajouter à la dataframe principale"
   ]
  },
  {
   "cell_type": "code",
   "execution_count": 140,
   "id": "0e7973df",
   "metadata": {},
   "outputs": [],
   "source": [
    "Aajouter=  {'name':[\"Suresh\"] , 'score': [15.5], 'attempts': [1], 'qualify': [\"yes\"]}\n",
    "Aajouter=pd.DataFrame(Aajouter)"
   ]
  },
  {
   "cell_type": "code",
   "execution_count": 141,
   "id": "ed51ba69",
   "metadata": {},
   "outputs": [
    {
     "name": "stdout",
     "output_type": "stream",
     "text": [
      "        name  score  attempts qualify\n",
      "0  Anastasia   12.5         1     yes\n",
      "1       Dima    9.0         3      no\n",
      "2  Katherine   16.5         2     yes\n",
      "4      Emily    9.0         2      no\n",
      "5    Michael   20.0         3     yes\n",
      "6    Matthew   14.5         1     yes\n",
      "8      Kevin    8.0         2      no\n",
      "9      Jonas   19.0         1     yes\n",
      "0     Suresh   15.5         1     yes\n"
     ]
    }
   ],
   "source": [
    "myNewDataFrame2=pd.concat([myDataFrame,Aajouter])\n",
    "print(myNewDataFrame2)"
   ]
  },
  {
   "cell_type": "markdown",
   "id": "5cf70b52",
   "metadata": {},
   "source": [
    "### 5.Write a Pandas program to delete the 'attempts' column from the DataFrame.\n",
    "https://www.freecodecamp.org/french/news/analyse-de-donnees-avec-pandas-comment-supprimer-une-liste-de-rangs-dun-dataframe-pandas/\n",
    "https://pandas.pydata.org/docs/reference/api/pandas.DataFrame.drop.html"
   ]
  },
  {
   "cell_type": "code",
   "execution_count": 142,
   "id": "5fa78597",
   "metadata": {},
   "outputs": [
    {
     "name": "stdout",
     "output_type": "stream",
     "text": [
      "        name  score qualify\n",
      "0  Anastasia   12.5     yes\n",
      "1       Dima    9.0      no\n",
      "2  Katherine   16.5     yes\n",
      "4      Emily    9.0      no\n",
      "5    Michael   20.0     yes\n",
      "6    Matthew   14.5     yes\n",
      "8      Kevin    8.0      no\n",
      "9      Jonas   19.0     yes\n",
      "0     Suresh   15.5     yes\n"
     ]
    }
   ],
   "source": [
    "print(myNewDataFrame2.drop(columns=['attempts']))"
   ]
  },
  {
   "cell_type": "markdown",
   "id": "f7f0708c",
   "metadata": {},
   "source": [
    "### 6.Add a new column \"Success\": if the score is higher than 10 we will have 1, else we will have 0.\n",
    "##### https://stackoverflow.com/questions/50375985/pandas-add-column-with-value-based-on-condition-based-on-other-columns\n"
   ]
  },
  {
   "cell_type": "code",
   "execution_count": 143,
   "id": "e00e85a7",
   "metadata": {},
   "outputs": [
    {
     "name": "stdout",
     "output_type": "stream",
     "text": [
      "        name  score  attempts qualify\n",
      "0  Anastasia   12.5         1     yes\n",
      "1       Dima    9.0         3      no\n",
      "2  Katherine   16.5         2     yes\n",
      "4      Emily    9.0         2      no\n",
      "5    Michael   20.0         3     yes\n",
      "6    Matthew   14.5         1     yes\n",
      "8      Kevin    8.0         2      no\n",
      "9      Jonas   19.0         1     yes\n",
      "0     Suresh   15.5         1     yes\n",
      "        name  score  attempts qualify  Success\n",
      "0  Anastasia   12.5         1     yes        1\n",
      "1       Dima    9.0         3      no        0\n",
      "2  Katherine   16.5         2     yes        1\n",
      "4      Emily    9.0         2      no        0\n",
      "5    Michael   20.0         3     yes        1\n",
      "6    Matthew   14.5         1     yes        1\n",
      "8      Kevin    8.0         2      no        0\n",
      "9      Jonas   19.0         1     yes        1\n",
      "0     Suresh   15.5         1     yes        1\n"
     ]
    }
   ],
   "source": [
    "print (myNewDataFrame2)\n",
    "myNewDataFrame2['Success'] = np.where(myNewDataFrame2['score']>10, 1, 0)\n",
    "print (myNewDataFrame2)"
   ]
  },
  {
   "cell_type": "code",
   "execution_count": 152,
   "id": "69e38987",
   "metadata": {},
   "outputs": [
    {
     "ename": "SyntaxError",
     "evalue": "invalid syntax (2900222785.py, line 7)",
     "output_type": "error",
     "traceback": [
      "\u001b[0;36m  Input \u001b[0;32mIn [152]\u001b[0;36m\u001b[0m\n\u001b[0;31m    print (\"hello\")\u001b[0m\n\u001b[0m    ^\u001b[0m\n\u001b[0;31mSyntaxError\u001b[0m\u001b[0;31m:\u001b[0m invalid syntax\n"
     ]
    }
   ],
   "source": [
    "########### TEST #############\n",
    "maliste = []\n",
    "print(maliste)\n",
    "for index, row in myNewDataFrame2.iterrows(): \n",
    "    # if myNewDataFrame2['score']> 10\n",
    "    if myNewDataFrame2[myNewDataFrame2['score'] > 10 :\n",
    "        maliste.append(1)\n",
    "        print (\"hello\")\n",
    "    else:           \n",
    "        maliste.append(0)\n",
    "        print (\"NoHello\")"
   ]
  },
  {
   "cell_type": "markdown",
   "id": "fdc82575",
   "metadata": {},
   "source": [
    "### 7.After executing the final DataFrame, export it into a CSV file named \"my_data\"."
   ]
  },
  {
   "cell_type": "code",
   "execution_count": 154,
   "id": "5f1a1612",
   "metadata": {},
   "outputs": [],
   "source": [
    "myNewDataFrame2.to_csv('myNewDataFrame2.csv')"
   ]
  }
 ],
 "metadata": {
  "kernelspec": {
   "display_name": "Python 3 (ipykernel)",
   "language": "python",
   "name": "python3"
  },
  "language_info": {
   "codemirror_mode": {
    "name": "ipython",
    "version": 3
   },
   "file_extension": ".py",
   "mimetype": "text/x-python",
   "name": "python",
   "nbconvert_exporter": "python",
   "pygments_lexer": "ipython3",
   "version": "3.9.12"
  }
 },
 "nbformat": 4,
 "nbformat_minor": 5
}

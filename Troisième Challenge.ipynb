{
 "cells": [
  {
   "cell_type": "code",
   "execution_count": 14,
   "id": "89b16c96",
   "metadata": {},
   "outputs": [
    {
     "name": "stdout",
     "output_type": "stream",
     "text": [
      "1\n",
      "[2, 3, 6]\n",
      "2\n",
      "2\n",
      "3\n",
      "6\n",
      "6\n",
      "36\n"
     ]
    }
   ],
   "source": [
    "###############Question 1#####\n",
    "y = 1\n",
    "print (y)\n",
    "list = [2,3,6]\n",
    "print (list)\n",
    "for i in list :\n",
    "    x=i\n",
    "    print(x)\n",
    "    y=y*x\n",
    "    print (y)"
   ]
  },
  {
   "cell_type": "code",
   "execution_count": 17,
   "id": "35a2a3dc",
   "metadata": {},
   "outputs": [
    {
     "name": "stdout",
     "output_type": "stream",
     "text": [
      "Sorted list: [(2, 1), (1, 2), (2, 3), (4, 4), (2, 5)]\n"
     ]
    }
   ],
   "source": [
    "########Question 2###########\n",
    "## Definir la fonction takesecond\n",
    "#  elem signifie element de la liste\n",
    "def takeSecond(elem):\n",
    "    return elem[1]\n",
    "Maliste= [(2,5),(1,2),(4,4),(2,3),(2,1)]\n",
    "# sort list with key\n",
    "Maliste.sort(key=takeSecond)\n",
    "# print list\n",
    "print('Sorted list:', Maliste)"
   ]
  },
  {
   "cell_type": "code",
   "execution_count": 23,
   "id": "357adc48",
   "metadata": {},
   "outputs": [
    {
     "data": {
      "text/plain": [
       "1"
      ]
     },
     "execution_count": 23,
     "metadata": {},
     "output_type": "execute_result"
    }
   ],
   "source": [
    "takeSecond((4,1))"
   ]
  },
  {
   "cell_type": "code",
   "execution_count": 33,
   "id": "4aab0f99",
   "metadata": {},
   "outputs": [
    {
     "name": "stdout",
     "output_type": "stream",
     "text": [
      "{'a': 400, 'b': 200, 'c': 300}\n",
      "{'a': 400, 'b': 400, 'c': 300}\n",
      "{'a': 400, 'b': 400, 'c': 700}\n"
     ]
    }
   ],
   "source": [
    "########Question 3###########\n",
    "d1={'a':100,'b':200,'c':300}\n",
    "d2={'a':300,'b':200,'c':400}\n",
    "#for a in d1,d2 :\n",
    "for key in d1: \n",
    "    if key in d2:\n",
    "        d1[key] = d1[key] + d2[key]\n",
    "    print(d1)\n",
    "    "
   ]
  },
  {
   "cell_type": "code",
   "execution_count": 38,
   "id": "b1720a43",
   "metadata": {},
   "outputs": [],
   "source": [
    "########Question 4###########\n",
    "n=2\n",
    "for i in range (2):\n",
    "    key=i\n",
    "    d1= {}\n",
    "    "
   ]
  },
  {
   "cell_type": "code",
   "execution_count": 41,
   "id": "5618b7b7",
   "metadata": {},
   "outputs": [
    {
     "name": "stdout",
     "output_type": "stream",
     "text": [
      "Enter a number:8\n",
      "{1: 1, 2: 4, 3: 9, 4: 16, 5: 25, 6: 36, 7: 49}\n"
     ]
    }
   ],
   "source": [
    "n=int(input(\"Enter a number:\"))\n",
    "d={x:x*x for x in range(1,n+1)}\n",
    "print(d)"
   ]
  },
  {
   "cell_type": "code",
   "execution_count": 45,
   "id": "90b27f13",
   "metadata": {},
   "outputs": [
    {
     "name": "stdout",
     "output_type": "stream",
     "text": [
      "[('item3', '24.5'), ('item2', '15.10'), ('item1', '12.20')]\n"
     ]
    }
   ],
   "source": [
    "#Question 5#\n",
    "def organiser (elem):\n",
    "    return elem[1]\n",
    "Maliste2= [('item1','12.20'),('item2','15.10'),('item3','24.5')]\n",
    "Maliste2.sort(key=takeSecond,reverse=True)\n",
    "print (Maliste2)"
   ]
  },
  {
   "cell_type": "code",
   "execution_count": 52,
   "id": "d752e6f7",
   "metadata": {},
   "outputs": [
    {
     "name": "stdout",
     "output_type": "stream",
     "text": [
      "<class 'dict'>\n",
      "<class 'set'>\n",
      "{0}\n",
      "{0, 1}\n",
      "{0, 1, 2}\n",
      "{0, 1, 2, 3}\n",
      "{0, 1, 3}\n",
      "{0, 1, 3, 'planète'}\n"
     ]
    }
   ],
   "source": [
    "#Question 6#\n",
    "myset={}\n",
    "print (type(myset))\n",
    "myset= set()\n",
    "print (type(myset))\n",
    "for i in range (4): \n",
    "    myset.add(i)\n",
    "    print (myset)\n",
    "# supprimer un élément de la set\n",
    "myset.remove(2)\n",
    "print (myset)\n",
    "# rajouter une élément à la set \n",
    "myset.add(\"planète\")\n",
    "print(myset)"
   ]
  },
  {
   "cell_type": "code",
   "execution_count": null,
   "id": "aaad64dc",
   "metadata": {},
   "outputs": [],
   "source": []
  }
 ],
 "metadata": {
  "kernelspec": {
   "display_name": "Python 3 (ipykernel)",
   "language": "python",
   "name": "python3"
  },
  "language_info": {
   "codemirror_mode": {
    "name": "ipython",
    "version": 3
   },
   "file_extension": ".py",
   "mimetype": "text/x-python",
   "name": "python",
   "nbconvert_exporter": "python",
   "pygments_lexer": "ipython3",
   "version": "3.9.12"
  }
 },
 "nbformat": 4,
 "nbformat_minor": 5
}

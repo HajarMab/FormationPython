{
 "cells": [
  {
   "cell_type": "code",
   "execution_count": 1,
   "id": "ac2b4fce",
   "metadata": {},
   "outputs": [
    {
     "name": "stdout",
     "output_type": "stream",
     "text": [
      "Blu sings 'Happy'\n",
      "Blu is now dancing\n"
     ]
    }
   ],
   "source": [
    "class Parrot:\n",
    "    \n",
    "    # instance attributes\n",
    "            # self est un pointeur \n",
    "            #__init__ est un constructeur\n",
    "    def __init__(self, name, age):\n",
    "        self.name = name\n",
    "        self.age = age\n",
    "    \n",
    "    # instance method\n",
    "         # self est un pointeur il ne sera pas utilisé comme paramètre lorsque j'appelle la fonction sing\n",
    "    def sing(self, song):\n",
    "         # Il s'agit là juste d'une méthode d'affichage\n",
    "        return \"{} sings {}\".format(self.name, song)\n",
    "\n",
    "    def dance(self):\n",
    "        return \"{} is now dancing\".format(self.name)\n",
    "################################################Fin de la déclaration de ma classe############################@\n",
    "# instantiate the object\n",
    "blu = Parrot(\"Blu\", 10)\n",
    "\n",
    "# call our instance methods\n",
    "print(blu.sing(\"'Happy'\"))\n",
    "print(blu.dance())\n"
   ]
  },
  {
   "cell_type": "code",
   "execution_count": 22,
   "id": "cc7c3b79",
   "metadata": {},
   "outputs": [
    {
     "name": "stdout",
     "output_type": "stream",
     "text": [
      "Hajar Mabkhout\n"
     ]
    }
   ],
   "source": [
    "###Heritage ######\n",
    "## Nous allons d'abord déclarer la classe Person ( la classe mère)\n",
    "class Person:\n",
    "    def __init__(self, fname, lname):\n",
    "        self.firstname = fname\n",
    "        self.lastname = lname\n",
    "    \n",
    "    def printname(self):\n",
    "        print(self.firstname, self.lastname)\n",
    "\n",
    "#Use the Person class to create an object, and then execute the printname method:\n",
    "\n",
    "x = Person(\"Hajar\", \"Mabkhout\")\n",
    "x.printname() "
   ]
  },
  {
   "cell_type": "code",
   "execution_count": 24,
   "id": "57c2b89c",
   "metadata": {},
   "outputs": [],
   "source": [
    " #Creat child class\n",
    "class Student(Person):\n",
    "        pass "
   ]
  },
  {
   "cell_type": "code",
   "execution_count": 26,
   "id": "ebc9ab63",
   "metadata": {},
   "outputs": [
    {
     "name": "stdout",
     "output_type": "stream",
     "text": [
      "Mehdi Mabkhout\n"
     ]
    }
   ],
   "source": [
    "## Use the Student class to create an object, and then execute the printname method:\n",
    "x = Student(\"Mehdi\", \"Mabkhout\")\n",
    "x.printname() "
   ]
  },
  {
   "cell_type": "code",
   "execution_count": 30,
   "id": "d13dd885",
   "metadata": {},
   "outputs": [],
   "source": [
    "######When you add the __init__() function, the child class will no longer inherit the parent's __init__() function.\n",
    "        ## Nous allons ajouter la fonction __init__() à notre classe fille\n",
    "        ## et conservé l'héritage de la classe parente,\n",
    "        ## et nous serons prêts à ajouter des fonctionnalités dans la fonction __init__().\n",
    "class Student(Person):\n",
    "    def __init__(self, fname, lname):\n",
    "        Person.__init__(self, fname, lname)\n",
    "### Python also has a super() function that will make the child class\n",
    "### inherit all the methods and properties from its parent:\n",
    "class Student(Person):\n",
    "    def __init__(self, fname, lname):\n",
    "        super().__init__(fname, lname) "
   ]
  },
  {
   "cell_type": "code",
   "execution_count": 32,
   "id": "569f2393",
   "metadata": {},
   "outputs": [],
   "source": [
    "####Add a property called graduationyear to the Student class:\n",
    "class Student(Person):\n",
    "    def __init__(self, fname, lname):\n",
    "        super().__init__(fname, lname)\n",
    "        self.graduationyear = 2019 "
   ]
  },
  {
   "cell_type": "code",
   "execution_count": 39,
   "id": "3f63a240",
   "metadata": {},
   "outputs": [
    {
     "name": "stdout",
     "output_type": "stream",
     "text": [
      "Hajar Mabkhout 2019\n"
     ]
    }
   ],
   "source": [
    "Elève=Student(\"Hajar\",\"Mabkhout\")\n",
    "print(Elève.firstname,Elève.lastname,Elève.graduationyear)"
   ]
  },
  {
   "cell_type": "code",
   "execution_count": 49,
   "id": "94eb8a3f",
   "metadata": {},
   "outputs": [
    {
     "name": "stdout",
     "output_type": "stream",
     "text": [
      "(3, 2, 8)\n"
     ]
    }
   ],
   "source": [
    "# Write a Python class named Point3D defined by x, y, and z. \n",
    "# Define a method that returns (x, y ,z). T\n",
    "# This tells Python to represent this object in the following format: (x, y, z). \n",
    "# Then create a variable named my_point containing a new instance of Point3D with x=1, y=2, and z=3 and print it.\n",
    "class Point3D():\n",
    "    def __init__(self,x,y,z):\n",
    "        self.pntx= x\n",
    "        self.pnty= y\n",
    "        self.pntz= z\n",
    "    def printpnt(self):\n",
    "        print((self.pntx,self.pnty,self.pntz))\n",
    "        \n",
    "Position= Point3D(3,2,8)\n",
    "Position.printpnt()\n",
    "        "
   ]
  },
  {
   "cell_type": "code",
   "execution_count": 59,
   "id": "1f2f9c02",
   "metadata": {},
   "outputs": [],
   "source": [
    "# Write a Python class named Rectangle constructed by a length and width. \n",
    "# Define two methods, area and perimeter, which will compute the area and the perimeter of the rectangle. \n",
    "# Then create a variable named my_rectangle containing a new instance of Rectangle\n",
    "# with width=3 and length = 4 and compute both area and perimeter \n",
    "#( the area is expected to be 3*4=12 and perimeter 2*(3+4)=14).\n",
    "class Rectangle:\n",
    "    def __init__(self,length,width):\n",
    "        self.length=length\n",
    "        self.width=width\n",
    "    def area(self):\n",
    "        surface=self.length*self.width\n",
    "        return \"The area of this objec: t{}\".format(surface)\n",
    "    def perimeter(self):\n",
    "        MonPerimetre=2*(self.length*self.width)\n",
    "        return \"The Perimeter of this object: {}\".format(MonPerimetre)"
   ]
  },
  {
   "cell_type": "code",
   "execution_count": 63,
   "id": "0cdd472f",
   "metadata": {},
   "outputs": [
    {
     "name": "stdout",
     "output_type": "stream",
     "text": [
      "The area of this objec: t8\n",
      "The Perimeter of this object: 16\n"
     ]
    }
   ],
   "source": [
    "monrectangle=Rectangle(2,4)\n",
    "print (monrectangle.area())\n",
    "print (monrectangle.perimeter())"
   ]
  },
  {
   "cell_type": "code",
   "execution_count": null,
   "id": "1ba681f6",
   "metadata": {},
   "outputs": [],
   "source": []
  }
 ],
 "metadata": {
  "kernelspec": {
   "display_name": "Python 3 (ipykernel)",
   "language": "python",
   "name": "python3"
  },
  "language_info": {
   "codemirror_mode": {
    "name": "ipython",
    "version": 3
   },
   "file_extension": ".py",
   "mimetype": "text/x-python",
   "name": "python",
   "nbconvert_exporter": "python",
   "pygments_lexer": "ipython3",
   "version": "3.9.12"
  }
 },
 "nbformat": 4,
 "nbformat_minor": 5
}

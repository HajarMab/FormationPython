{
 "cells": [
  {
   "cell_type": "code",
   "execution_count": 6,
   "id": "6b1d1204",
   "metadata": {},
   "outputs": [
    {
     "name": "stdout",
     "output_type": "stream",
     "text": [
      "[1 2 4]\n",
      "[[3 4 5]\n",
      " [4 8 1]]\n"
     ]
    }
   ],
   "source": [
    "import numpy as np\n",
    "MonTableau=np.array([1,2,4])\n",
    "print (MonTableau)\n",
    "Montableau2= np.array([[3,4,5],[4,8,1]])\n",
    "print (Montableau2)"
   ]
  },
  {
   "cell_type": "code",
   "execution_count": 8,
   "id": "6712dfa4",
   "metadata": {},
   "outputs": [
    {
     "name": "stdout",
     "output_type": "stream",
     "text": [
      "[[[1 2]\n",
      "  [3 4]]\n",
      "\n",
      " [[5 6]\n",
      "  [7 8]]]\n"
     ]
    }
   ],
   "source": [
    "a3D = np.array([[[1, 2], [3, 4]], [[5, 6], [7, 8]]])\n",
    "print(a3D)"
   ]
  },
  {
   "cell_type": "code",
   "execution_count": 12,
   "id": "7c25686b",
   "metadata": {},
   "outputs": [
    {
     "name": "stdout",
     "output_type": "stream",
     "text": [
      "[[1 2]\n",
      " [3 4]\n",
      " [5 6]]\n"
     ]
    }
   ],
   "source": [
    "a = np.array([[1, 2], [3, 4], [5,6]])\n",
    "print (a)"
   ]
  },
  {
   "cell_type": "code",
   "execution_count": 14,
   "id": "50ef815e",
   "metadata": {},
   "outputs": [
    {
     "name": "stdout",
     "output_type": "stream",
     "text": [
      "[[1 2]\n",
      " [3 4]\n",
      " [5 6]]\n"
     ]
    }
   ],
   "source": [
    "a = np.array([(1, 2), (3, 4), (5,6)])\n",
    "print (a)"
   ]
  },
  {
   "cell_type": "code",
   "execution_count": 16,
   "id": "fbd0aef9",
   "metadata": {},
   "outputs": [
    {
     "data": {
      "text/plain": [
       "(3, 2)"
      ]
     },
     "execution_count": 16,
     "metadata": {},
     "output_type": "execute_result"
    }
   ],
   "source": [
    "a.shape"
   ]
  },
  {
   "cell_type": "code",
   "execution_count": 19,
   "id": "fd4ef2a3",
   "metadata": {},
   "outputs": [
    {
     "name": "stdout",
     "output_type": "stream",
     "text": [
      "1\n"
     ]
    }
   ],
   "source": [
    "a[0,0]\n",
    "print(a[0,0])"
   ]
  },
  {
   "cell_type": "code",
   "execution_count": 41,
   "id": "72e77258",
   "metadata": {},
   "outputs": [
    {
     "name": "stdout",
     "output_type": "stream",
     "text": [
      "Voici mon tableau: [[0 1 2]\n",
      " [3 4 5]\n",
      " [6 7 8]]\n",
      "Voici les dimensions de mon tableau: (3, 3)\n",
      "On accède à cet élément a[0,2]: 2\n",
      "On fait un slicing a[1,:]: [3 4 5]\n",
      "On fait un slicing a[:,2]: [2 5 8]\n",
      "[2 5 8]\n"
     ]
    }
   ],
   "source": [
    "#Declaration d'un tableau multidimentionnel\n",
    "a = np.array([[0,1,2],[3,4,5],[6,7,8]])\n",
    "print (\"Voici mon tableau:\",a)\n",
    "# Connaitre la dimension du tableau \n",
    "print(\"Voici les dimensions de mon tableau:\",a.shape)\n",
    "# Acceder à un élément du tableau ligne 0 et colonne 2 ATTENTION Tableau index démarre à partir de 0\n",
    "print(\"On accède à cet élément a[0,2]:\",a[0,2])\n",
    "print(\"On fait un slicing a[1,:]:\",a[1,:])\n",
    "print(\"On fait un slicing a[:,2]:\",a[:, 2])\n",
    "#if you dont know how many columns you have dont worry!\n",
    "print(a[:,-1])\n"
   ]
  },
  {
   "cell_type": "code",
   "execution_count": null,
   "id": "037b1dc2",
   "metadata": {},
   "outputs": [],
   "source": []
  }
 ],
 "metadata": {
  "kernelspec": {
   "display_name": "Python 3 (ipykernel)",
   "language": "python",
   "name": "python3"
  },
  "language_info": {
   "codemirror_mode": {
    "name": "ipython",
    "version": 3
   },
   "file_extension": ".py",
   "mimetype": "text/x-python",
   "name": "python",
   "nbconvert_exporter": "python",
   "pygments_lexer": "ipython3",
   "version": "3.9.12"
  }
 },
 "nbformat": 4,
 "nbformat_minor": 5
}

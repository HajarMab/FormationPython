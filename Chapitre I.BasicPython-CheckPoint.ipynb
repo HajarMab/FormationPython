{
 "cells": [
  {
   "cell_type": "code",
   "execution_count": 10,
   "id": "29d27be6",
   "metadata": {},
   "outputs": [
    {
     "name": "stdout",
     "output_type": "stream",
     "text": [
      "Entrez Nom et Prénom:Hajar Mabkhout\n",
      "Hajar Mabkhout\n",
      "tuohkbaM rajaH\n"
     ]
    }
   ],
   "source": [
    "##Question 1:\n",
    "## Déclaration fonction\n",
    "def my_function(x):\n",
    "    return x[::-1]\n",
    "##\n",
    "    ##Fin déclaration fonction\n",
    "## Entrez nom et prénom\n",
    "NomPrenom = input(\"Entrez Nom et Prénom:\")\n",
    "## Imprimez nom et prénom\n",
    "print(NomPrenom)\n",
    "## Appliquez la fonction \n",
    "Reverseit= my_function(NomPrenom)\n",
    "print(Reverseit)\n",
    "##"
   ]
  },
  {
   "cell_type": "code",
   "execution_count": 42,
   "id": "81916ed7",
   "metadata": {},
   "outputs": [
    {
     "name": "stdout",
     "output_type": "stream",
     "text": [
      "Entrez valeur de votre nombre n:5\n",
      "n:5\n",
      "Data type of num_string before Type Casting: <class 'str'>\n",
      "Data type of num_string before Type Casting: <class 'int'>\n"
     ]
    },
    {
     "data": {
      "text/plain": [
       "155"
      ]
     },
     "execution_count": 42,
     "metadata": {},
     "output_type": "execute_result"
    }
   ],
   "source": [
    "##Question 2:\n",
    "## Ma première version ##\n",
    "x= input( \"Entrez valeur de votre nombre n:\")\n",
    "print (\"n:\"+x)\n",
    "print(\"Data type of num_string before Type Casting:\",type(x))\n",
    "x= int(x)\n",
    "print(\"Data type of num_string before Type Casting:\",type(x))\n",
    "def my_function2(a):\n",
    "    Calcul= (a)+(a*a)+(a*a*a)\n",
    "    return Calcul\n",
    "my_function2(x)\n"
   ]
  },
  {
   "cell_type": "code",
   "execution_count": 5,
   "id": "e96d4ac6",
   "metadata": {},
   "outputs": [
    {
     "name": "stdout",
     "output_type": "stream",
     "text": [
      "Entrez valeur de votre nombre n:5\n",
      "n:5\n"
     ]
    },
    {
     "data": {
      "text/plain": [
       "615"
      ]
     },
     "execution_count": 5,
     "metadata": {},
     "output_type": "execute_result"
    }
   ],
   "source": [
    "##Question 2:\n",
    "## Ma deuxième version ##\n",
    "b= input( \"Entrez valeur de votre nombre n:\")\n",
    "print (\"n:\"+b)\n",
    "def my_function2(a):\n",
    "    Calcul1= (a)\n",
    "    Calcul1=int(Calcul1)\n",
    "    Calcul2= (a*2)\n",
    "    Calcul2=int(Calcul2)\n",
    "    Calcul3= (a*3)\n",
    "    Calcul3=int(Calcul3)\n",
    "    return Calcul1+Calcul2+Calcul3\n",
    "my_function2(b)"
   ]
  },
  {
   "cell_type": "code",
   "execution_count": 20,
   "id": "63277e3f",
   "metadata": {},
   "outputs": [
    {
     "name": "stdout",
     "output_type": "stream",
     "text": [
      "Enter a number: 1\n",
      "1 is Odd-Impaire\n"
     ]
    }
   ],
   "source": [
    "##Question 3:\n",
    "num = int(input(\"Enter a number: \"))\n",
    "# Modulo pour avoir le reste \n",
    "if (num % 2) == 0:\n",
    "    print(num,\"is Even-Paire\")\n",
    "    # Une autre manière de faire ( ça concerne le print....)\n",
    "    #print(\"{0} is Even-Paire\".format(num))\n",
    "else:\n",
    "    print(num,\"is Odd-Impaire\")\n",
    "    #print(\"{0} is Odd-Impaire\".format(num))"
   ]
  },
  {
   "cell_type": "code",
   "execution_count": 33,
   "id": "ea228cca",
   "metadata": {},
   "outputs": [
    {
     "name": "stdout",
     "output_type": "stream",
     "text": [
      "Le numéro entré 2030 est divisible par 7 + multiple de 5\n",
      "\n",
      "Le numéro entré 2065 est divisible par 7 + multiple de 5\n",
      "\n",
      "Le numéro entré 2100 est divisible par 7 + multiple de 5\n",
      "\n",
      "Le numéro entré 2135 est divisible par 7 + multiple de 5\n",
      "\n",
      "Le numéro entré 2170 est divisible par 7 + multiple de 5\n",
      "\n",
      "Le numéro entré 2205 est divisible par 7 + multiple de 5\n",
      "\n",
      "Le numéro entré 2240 est divisible par 7 + multiple de 5\n",
      "\n",
      "Le numéro entré 2275 est divisible par 7 + multiple de 5\n",
      "\n",
      "Le numéro entré 2310 est divisible par 7 + multiple de 5\n",
      "\n",
      "Le numéro entré 2345 est divisible par 7 + multiple de 5\n",
      "\n",
      "Le numéro entré 2380 est divisible par 7 + multiple de 5\n",
      "\n",
      "Le numéro entré 2415 est divisible par 7 + multiple de 5\n",
      "\n",
      "Le numéro entré 2450 est divisible par 7 + multiple de 5\n",
      "\n",
      "Le numéro entré 2485 est divisible par 7 + multiple de 5\n",
      "\n",
      "Le numéro entré 2520 est divisible par 7 + multiple de 5\n",
      "\n",
      "Le numéro entré 2555 est divisible par 7 + multiple de 5\n",
      "\n",
      "Le numéro entré 2590 est divisible par 7 + multiple de 5\n",
      "\n",
      "Le numéro entré 2625 est divisible par 7 + multiple de 5\n",
      "\n",
      "Le numéro entré 2660 est divisible par 7 + multiple de 5\n",
      "\n",
      "Le numéro entré 2695 est divisible par 7 + multiple de 5\n",
      "\n",
      "Le numéro entré 2730 est divisible par 7 + multiple de 5\n",
      "\n",
      "Le numéro entré 2765 est divisible par 7 + multiple de 5\n",
      "\n",
      "Le numéro entré 2800 est divisible par 7 + multiple de 5\n",
      "\n",
      "Le numéro entré 2835 est divisible par 7 + multiple de 5\n",
      "\n",
      "Le numéro entré 2870 est divisible par 7 + multiple de 5\n",
      "\n",
      "Le numéro entré 2905 est divisible par 7 + multiple de 5\n",
      "\n",
      "Le numéro entré 2940 est divisible par 7 + multiple de 5\n",
      "\n",
      "Le numéro entré 2975 est divisible par 7 + multiple de 5\n",
      "\n",
      "Le numéro entré 3010 est divisible par 7 + multiple de 5\n",
      "\n",
      "Le numéro entré 3045 est divisible par 7 + multiple de 5\n",
      "\n",
      "Le numéro entré 3080 est divisible par 7 + multiple de 5\n",
      "\n",
      "Le numéro entré 3115 est divisible par 7 + multiple de 5\n",
      "\n",
      "Le numéro entré 3150 est divisible par 7 + multiple de 5\n",
      "\n",
      "Le numéro entré 3185 est divisible par 7 + multiple de 5\n",
      "\n"
     ]
    }
   ],
   "source": [
    "## Question 4\n",
    "#x= input( \"entrez votre numéro:\")\n",
    "for num in range(2000,3201,1):\n",
    "    # Testez si c divisible par 7\n",
    "    if (num % 7 == 0):\n",
    "        #print(\"Le numéro entré\",num,\"est divisible par 7\\n car le reste est égale à zero\")\n",
    "        num=str(num)\n",
    "        #print(\"le dernier chiffre de mon numéro est:\",num[-1])\n",
    "        if (num[-1]== '0' or num[-1]== '5' ):\n",
    "            print(\"Le numéro entré\",num,\"est divisible par 7 + multiple de 5\\n\")\n",
    "    #else:\n",
    "     #   print(\"Le numéro entré\",num,\"n'est pas divisible par 7\\n\")\n",
    "    # Testez que ce n'est pas un multiple de 5"
   ]
  },
  {
   "cell_type": "code",
   "execution_count": 33,
   "id": "f16e567c",
   "metadata": {},
   "outputs": [
    {
     "name": "stdout",
     "output_type": "stream",
     "text": [
      "h\n",
      "l\n",
      "o\n",
      "t\n",
      "a\n"
     ]
    }
   ],
   "source": [
    "##Question 6:\n",
    "d= \"hello team\"\n",
    "for i in enumerate(d): \n",
    "    ##print (i)\n",
    "    if i[0]%2==0 :\n",
    "        print (i[1])"
   ]
  },
  {
   "cell_type": "code",
   "execution_count": 41,
   "id": "a8167673",
   "metadata": {},
   "outputs": [
    {
     "name": "stdout",
     "output_type": "stream",
     "text": [
      "Entrez prix en chiffre:200\n",
      "2.0\n"
     ]
    }
   ],
   "source": [
    "## Question 7\n",
    "# Calculer le prix en fonction de son discount \n",
    "price = input(\"Entrez prix en chiffre:\")\n",
    "price=int(price)\n",
    "if ( price >=500):\n",
    "    finalPrice= 500*50/100\n",
    "    finalPrice=str(finalPrice)\n",
    "    print (finalPrice)\n",
    "if ( price >=200 and price < 500):\n",
    "    finalPrice= price*30/100\n",
    "    finalPrice=str(finalPrice)\n",
    "    print (finalPrice)\n",
    "else :\n",
    "    finalPrice= price*10/100\n",
    "    finalPrice=str(finalPrice)\n",
    "    print (finalPrice)"
   ]
  },
  {
   "cell_type": "code",
   "execution_count": null,
   "id": "1a605f23",
   "metadata": {},
   "outputs": [],
   "source": []
  }
 ],
 "metadata": {
  "kernelspec": {
   "display_name": "Python 3 (ipykernel)",
   "language": "python",
   "name": "python3"
  },
  "language_info": {
   "codemirror_mode": {
    "name": "ipython",
    "version": 3
   },
   "file_extension": ".py",
   "mimetype": "text/x-python",
   "name": "python",
   "nbconvert_exporter": "python",
   "pygments_lexer": "ipython3",
   "version": "3.9.12"
  }
 },
 "nbformat": 4,
 "nbformat_minor": 5
}
